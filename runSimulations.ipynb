{
 "cells": [
  {
   "cell_type": "markdown",
   "metadata": {},
   "source": [
    "# Run Simulations"
   ]
  },
  {
   "cell_type": "markdown",
   "metadata": {},
   "source": [
    "## Use the CSLV problem file and all Debris"
   ]
  },
  {
   "cell_type": "code",
   "execution_count": 1,
   "metadata": {},
   "outputs": [],
   "source": [
    "include(\"../src/CSLVProblem_.jl\")\n",
    "include(\"../src/ParallelVI_.jl\")\n",
    "using Distributed\n",
    "using ProgressMeter\n",
    "using JLD\n",
    "@everywhere debris = load(\"../assets/debris.jld\", \"debris\")\n",
    "@everywhere problem = CSLVProblem_.CSLVProblem(0., 0., 0., 0.);"
   ]
  },
  {
   "cell_type": "markdown",
   "metadata": {},
   "source": [
    "## Use the simulation file"
   ]
  },
  {
   "cell_type": "code",
   "execution_count": 2,
   "metadata": {},
   "outputs": [],
   "source": [
    "@everywhere include(\"../src/Simulations2.jl\");"
   ]
  },
  {
   "cell_type": "markdown",
   "metadata": {},
   "source": [
    "# Run simulations (in order)"
   ]
  },
  {
   "cell_type": "markdown",
   "metadata": {},
   "source": [
    "### Nominal Simulation Results"
   ]
  },
  {
   "cell_type": "code",
   "execution_count": 3,
   "metadata": {
    "scrolled": false
   },
   "outputs": [
    {
     "name": "stderr",
     "output_type": "stream",
     "text": [
      "\u001b[32mComputing... 92%|████████████████████████████████████   |  ETA: 0:00:02\u001b[39m"
     ]
    },
    {
     "name": "stdout",
     "output_type": "stream",
     "text": [
      "\n",
      "RESULTS:\n",
      "weighted number rerouted\n",
      "0"
     ]
    },
    {
     "name": "stderr",
     "output_type": "stream",
     "text": [
      "\r",
      "\u001b[32mComputing...100%|███████████████████████████████████████| Time: 0:00:26\u001b[39m\n"
     ]
    },
    {
     "name": "stdout",
     "output_type": "stream",
     "text": [
      ".0\n",
      "% rerouted\n",
      "0.0\n",
      "average weighted distance\n",
      "217643.85\n",
      "average added distance\n",
      "0.0\n",
      "weighted number traverse 10x safety region\n",
      "171.11\n",
      "percent traverse 10x safety  region\n",
      "1.69\n",
      "\n"
     ]
    }
   ],
   "source": [
    "distance = nominal(debris, problem, fI, sI);"
   ]
  },
  {
   "cell_type": "markdown",
   "metadata": {},
   "source": [
    "### Histroic Simulation Results"
   ]
  },
  {
   "cell_type": "code",
   "execution_count": 4,
   "metadata": {
    "scrolled": true
   },
   "outputs": [
    {
     "name": "stderr",
     "output_type": "stream",
     "text": [
      "\u001b[32mComputing... 92%|████████████████████████████████████   |  ETA: 0:00:02\u001b[39m"
     ]
    },
    {
     "name": "stdout",
     "output_type": "stream",
     "text": [
      "\n",
      "RESULTS:\n",
      "weighted number rerouted\n",
      "10100.0\n",
      "% rerouted\n",
      "100.0\n",
      "average weighted distance\n",
      "224635.74\n",
      "average added distance\n",
      "6991.89\n",
      "weighted number traverse 10x safety region\n",
      "0.0\n",
      "percent traverse 10x safety  region\n",
      "0.0\n",
      "\n"
     ]
    },
    {
     "name": "stderr",
     "output_type": "stream",
     "text": [
      "\r",
      "\u001b[32mComputing...100%|███████████████████████████████████████| Time: 0:00:17\u001b[39m\n"
     ]
    }
   ],
   "source": [
    "historic(debris, problem, fI, hI, sI, distance);"
   ]
  },
  {
   "cell_type": "markdown",
   "metadata": {},
   "source": [
    "### Proposed Simulation Results\n",
    "#### (takes longer than previous two simulations)"
   ]
  },
  {
   "cell_type": "code",
   "execution_count": 6,
   "metadata": {
    "scrolled": false
   },
   "outputs": [
    {
     "name": "stdout",
     "output_type": "stream",
     "text": [
      "\n",
      "RESULTS:\n",
      "weighted number rerouted\n",
      "224.55\n",
      "% rerouted\n",
      "2.22\n",
      "average weighted distance\n",
      "217644.17\n",
      "average added distance\n",
      "0.32\n",
      "weighted number traverse 10x safety region\n",
      "171.07\n",
      "percent traverse 10x safety  region\n",
      "1.69\n",
      "\n"
     ]
    }
   ],
   "source": [
    "proposed(debris, problem, fI, sI, distance);"
   ]
  },
  {
   "cell_type": "code",
   "execution_count": null,
   "metadata": {},
   "outputs": [],
   "source": []
  }
 ],
 "metadata": {
  "kernelspec": {
   "display_name": "Julia 1.0.1",
   "language": "julia",
   "name": "julia-1.0"
  },
  "language_info": {
   "file_extension": ".jl",
   "mimetype": "application/julia",
   "name": "julia",
   "version": "1.0.1"
  }
 },
 "nbformat": 4,
 "nbformat_minor": 1
}
